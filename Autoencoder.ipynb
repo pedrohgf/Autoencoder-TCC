{
  "nbformat": 4,
  "nbformat_minor": 0,
  "metadata": {
    "colab": {
      "name": "Untitled1.ipynb",
      "provenance": []
    },
    "kernelspec": {
      "name": "python3",
      "display_name": "Python 3"
    }
  },
  "cells": [
    {
      "cell_type": "code",
      "metadata": {
        "id": "YjLvGxp9Q06J",
        "colab_type": "code",
        "colab": {}
      },
      "source": [
        "%reload_ext autoreload\n",
        "%autoreload 2\n",
        "%matplotlib inline"
      ],
      "execution_count": 0,
      "outputs": []
    },
    {
      "cell_type": "markdown",
      "metadata": {
        "id": "0M0LUXBMRfG7",
        "colab_type": "text"
      },
      "source": [
        "The fast.ai library sits on top of PyTorch, an open-source machine learning library for Python.\n",
        "\n",
        "Version 1.0 splits the highest levels of the library into four implementation packages, fastai.vision (for image applications), fastai.text (for language procession), fastai.tabular (for tabular/structured data), and fastai.collab (for collaborative filtering). I worked with MNIST data so fastai.vision is what we want.\n"
      ]
    },
    {
      "cell_type": "code",
      "metadata": {
        "id": "VL_Z6FHWReoj",
        "colab_type": "code",
        "colab": {}
      },
      "source": [
        "\n",
        "from fastai.imports import *\n",
        "from fastai.vision import *\n",
        "from fastai.data_block import *\n",
        "from fastai.basic_train import *\n",
        "\n",
        "import pandas as pd"
      ],
      "execution_count": 0,
      "outputs": []
    },
    {
      "cell_type": "markdown",
      "metadata": {
        "id": "qrCCEMM_RnoR",
        "colab_type": "text"
      },
      "source": [
        "\n",
        "I used a GPU. I haven't made allowances in this code for cases where a GPU isn't available, so if you'd like to try this code for CPU only, be aware some tinkering will be required later."
      ]
    },
    {
      "cell_type": "code",
      "metadata": {
        "id": "9doXaGhsRlVu",
        "colab_type": "code",
        "colab": {}
      },
      "source": [
        "torch.cuda.is_available()\n",
        "torch.backends.cudnn.enabled"
      ],
      "execution_count": 0,
      "outputs": []
    },
    {
      "cell_type": "markdown",
      "metadata": {
        "id": "_KrFpNwYRyNA",
        "colab_type": "text"
      },
      "source": [
        "## **Data shaping**\n",
        "The MNIST data set includes a set of  28×28  images of handwritten digits with their labels, 0-9. I got my copy of the dataset in a weird format from kaggle, consisting of a CSV with the label and a column for each pixel in the image containing an int from 0-255.\n",
        "\n",
        "As a result, I had to do a bit of processing to present the data to fast.ai in a format it understands. Revisiting this, I could use a version of the dataset that uses the actual images, but this type of preprocessing gives me a chance to learn how the newer fast.ai version handles data."
      ]
    },
    {
      "cell_type": "code",
      "metadata": {
        "id": "o38sVF1iR3KU",
        "colab_type": "code",
        "colab": {}
      },
      "source": [
        "PATH = \"data/mnist/\"\n",
        "test_csv = f'{PATH}test.csv'\n",
        "train_csv = f'{PATH}train.csv'"
      ],
      "execution_count": 0,
      "outputs": []
    },
    {
      "cell_type": "markdown",
      "metadata": {
        "id": "_akos8bRR5U4",
        "colab_type": "text"
      },
      "source": [
        "We'll use pandas to read the CSVs. In this application the data from test_df will go unused.\n",
        "\n"
      ]
    },
    {
      "cell_type": "code",
      "metadata": {
        "id": "FKw4QMtvR7NG",
        "colab_type": "code",
        "colab": {}
      },
      "source": [
        "train_df = pd.read_csv(train_csv)\n",
        "test_df = pd.read_csv(test_csv)"
      ],
      "execution_count": 0,
      "outputs": []
    },
    {
      "cell_type": "markdown",
      "metadata": {
        "id": "BLHt58A-R9Y-",
        "colab_type": "text"
      },
      "source": [
        "We can now look at the data firsthand. The column on the left gives the image number, and the columns continue all the way out to pixel783.\n",
        "\n"
      ]
    },
    {
      "cell_type": "code",
      "metadata": {
        "id": "4mg5OEVCSAfH",
        "colab_type": "code",
        "colab": {}
      },
      "source": [
        "train_df.iloc[:5,:11]"
      ],
      "execution_count": 0,
      "outputs": []
    },
    {
      "cell_type": "markdown",
      "metadata": {
        "id": "HpQULd12SCaS",
        "colab_type": "text"
      },
      "source": [
        "Most of the pixels are 0 (black), but let's find some that aren't:\n",
        "\n"
      ]
    },
    {
      "cell_type": "markdown",
      "metadata": {
        "id": "hJBscgjjVwBM",
        "colab_type": "text"
      },
      "source": [
        "The MNIST dataset was created with the intent of training a classifier, something that could identify the digit from the image. We're not going to do that, so I'll throw away the labels. Then, I'll convert the 0-255 pixel data to a float in  [0,1]  and reshape the  784 -long vectors into  28×28  arrays.\n",
        "\n",
        "Since fast.ai mostly expects image data in 3 color channels, we'll duplicate the array for each channel.\n",
        "\n"
      ]
    },
    {
      "cell_type": "code",
      "metadata": {
        "id": "Agj20CkRSK2y",
        "colab_type": "code",
        "colab": {}
      },
      "source": [
        "x = train_df.drop('label',1).values\n",
        "x = x/255.\n",
        "x = x.reshape(-1,28,28)\n",
        "x = np.stack([x,x,x],1)"
      ],
      "execution_count": 0,
      "outputs": []
    },
    {
      "cell_type": "markdown",
      "metadata": {
        "id": "s5op9_QhV2jT",
        "colab_type": "text"
      },
      "source": [
        "Let's make sure we have the correct shape.\n",
        "\n"
      ]
    },
    {
      "cell_type": "code",
      "metadata": {
        "id": "CGCokd2yV35E",
        "colab_type": "code",
        "colab": {}
      },
      "source": [
        "x.shape\n"
      ],
      "execution_count": 0,
      "outputs": []
    },
    {
      "cell_type": "markdown",
      "metadata": {
        "id": "K7kpJmSdV4kh",
        "colab_type": "text"
      },
      "source": [
        "The shape describes the type of tensor our input data occupies. A tensor is a matrix but with any number of dimensions. Our data is a 4-d tensor with dimensions  42000×3×28×28 . The first dimension is the size of our dataset, the second dimension is the three color channels, and the remaining dimensions represent the width and height of the images.\n",
        "\n",
        "Here's what the images actually look like (using fast.ai's Image class after casting the numpy arrays to a PyTorch tensor):\n",
        "\n"
      ]
    },
    {
      "cell_type": "code",
      "metadata": {
        "id": "HyZixP4JV9XL",
        "colab_type": "code",
        "colab": {}
      },
      "source": [
        "Image(Tensor(np.concatenate(x[10:20],2))).show(figsize=(10,1))\n"
      ],
      "execution_count": 0,
      "outputs": []
    },
    {
      "cell_type": "markdown",
      "metadata": {
        "id": "STeCO5MTWB2x",
        "colab_type": "text"
      },
      "source": [
        "At this point in my old notebook, I set y=x and split them both into training and validation sets, but as we'll see, that's been automated in this version of fast.ai.\n",
        "\n"
      ]
    },
    {
      "cell_type": "markdown",
      "metadata": {
        "id": "DXeAgyUUWV0J",
        "colab_type": "text"
      },
      "source": [
        "## **Formatting data for fast.ai**\n",
        "\n",
        "\n",
        "Up till now we've just used pandas and numpy, but now I have to get into the nitty gritty of fast.ai's new data_block API. The version used in the online course used Dataset objects which could be used to create DataLoader objects, which could then get wrapped into ModelData objects and used with a model to build a Learner.\n",
        "\n",
        "Dataset and DataLoader objects are still in the underlying PyTorch framework, but they have been abstracted in the new version using ItemLists, which is like a more intuitive and flexible Dataset, and Databunch, which acts much like the old ModelData object, but works for more applications.\n",
        "\n",
        "I actually found myself writing something with some of the functionality of an ItemList in one of my projects so I'm not surprised to something like it eventually became part of the library. For our purposes an ItemList is a numpy.ndarray of objects, with all the nice slicing functionality that entails, and methods that prepare the data your model will need to use. The point is that directly storing your data in the array is often memory prohibitive, so instead for example you might store the filenames of images in your ItemList object mydata and then retrieve the tensor of pixel data only when mydata.get is called. In fact this is the default behavior of the subclass ImageItemList used by the fastai.vision module.\n",
        "\n",
        "Since I don't have the MNIST image files on disk, and the MNIST image data is relatively small, I've decided to store it directly. It turns out that the fastai.data_block API is probably more suited to me just loading data out of the train_df DataFrame instance and reshaping it as needed, but trying to do it this way taught me quite a bit about how the API works.\n",
        "\n",
        "First I want a custom class that has some of the functionality of ImageItemList, but pulls data directly from its .items property like ItemList, and is treated as regression data like a FloatList."
      ]
    },
    {
      "cell_type": "code",
      "metadata": {
        "id": "jwTGd71zWZuY",
        "colab_type": "code",
        "colab": {}
      },
      "source": [
        "class ArraysImageItemList(ImageItemList,FloatList):\n",
        "    def __init__(self, items:Iterator, log:bool=False, **kwargs):\n",
        "        if isinstance(items, ItemList):\n",
        "            items = items.items\n",
        "        super(FloatList,self).__init__(items,**kwargs)\n",
        "    \n",
        "    def get(self,i):\n",
        "        return Tensor(super(FloatList,self).get(i).astype('float32'))\n"
      ],
      "execution_count": 0,
      "outputs": []
    },
    {
      "cell_type": "code",
      "metadata": {
        "id": "Mps_ZAvNWghO",
        "colab_type": "code",
        "colab": {}
      },
      "source": [
        "x_il = ArraysImageItemList(x)\n"
      ],
      "execution_count": 0,
      "outputs": []
    },
    {
      "cell_type": "markdown",
      "metadata": {
        "id": "yNBHUBN_Wh-E",
        "colab_type": "text"
      },
      "source": [
        "The next step is to split our data into training and validation (and optionally test) sets. This is automated in the new version in a very nice way.\n",
        "\n"
      ]
    },
    {
      "cell_type": "code",
      "metadata": {
        "id": "WUjOXJuCWk32",
        "colab_type": "code",
        "colab": {}
      },
      "source": [
        "x_ils = x_il.random_split_by_pct()\n"
      ],
      "execution_count": 0,
      "outputs": []
    },
    {
      "cell_type": "markdown",
      "metadata": {
        "id": "NS8efY_EWpK1",
        "colab_type": "text"
      },
      "source": [
        "Now we add labels to form a LabelLists. Since our desired output is the same as our inputs, we will pass the training and validation sets in our ItemLists class as our training and validation labels.\n",
        "\n"
      ]
    },
    {
      "cell_type": "code",
      "metadata": {
        "id": "99MRhNrXW2MM",
        "colab_type": "code",
        "colab": {}
      },
      "source": [
        "lls = x_ils.label_from_lists(x_ils.train, x_ils.valid)\n"
      ],
      "execution_count": 0,
      "outputs": []
    },
    {
      "cell_type": "markdown",
      "metadata": {
        "id": "YWV3dGcUW2fv",
        "colab_type": "text"
      },
      "source": [
        "To wrap up the data preparation we create a databunch. Again the library can handle this automatically.\n",
        "\n"
      ]
    },
    {
      "cell_type": "code",
      "metadata": {
        "id": "3iMi4KdXW3qt",
        "colab_type": "code",
        "colab": {}
      },
      "source": [
        "db = lls.databunch()\n"
      ],
      "execution_count": 0,
      "outputs": []
    },
    {
      "cell_type": "markdown",
      "metadata": {
        "id": "LEKA7HbQW4-M",
        "colab_type": "text"
      },
      "source": [
        "To be honest, my instinct was to pair the raw data with labels (desired output) in a LabelList before splitting into training and validation sets. The API appeared to support it, but I got a lot of unexpected behavior. I later learned the preferred method is to split then pair with labels as you see above. This seems less natural to me, as you have to take steps to ensure the training and validation inputs stay matched with training and validation outputs, but it may just take some getting used to on my part. It certainly didn't turn out to be an issue in this application.\n",
        "\n"
      ]
    },
    {
      "cell_type": "markdown",
      "metadata": {
        "id": "jzgH9Pv_W61a",
        "colab_type": "text"
      },
      "source": [
        "# **Build model**\n",
        "\n",
        "# **Encoder using ResNET34**\n",
        "\n",
        "ResNET is a deep learning architecture developed for image classification, specifically performance on the ImageNet dataset. This might be overkill, but I created the encoder with a ResNET34 spine (all layers except those specific to classification) pretrained on ImageNet. These resources are available, free, and easy to access using fast.ai, so why not use them?"
      ]
    },
    {
      "cell_type": "code",
      "metadata": {
        "id": "RgWuWLkcXKzS",
        "colab_type": "code",
        "colab": {}
      },
      "source": [
        "m = vision.models.resnet34(pretrained = True).cuda()\n"
      ],
      "execution_count": 0,
      "outputs": []
    },
    {
      "cell_type": "markdown",
      "metadata": {
        "id": "9_Ilp-2nXSp2",
        "colab_type": "text"
      },
      "source": [
        "The idea behind using pretrained ResNET is that it's a network that already \"knows\" how to recognize images, and part of that skill is recognizing the important features that distinguish the types of images that humans are interested in. We hope to leverage this ability to create a code layer that captures enough of the important information about handwritten digits that the digits can be reconstructed. This technique of taking a network that performs well on one task and repurposing it to another task is called transfer learning.\n",
        "\n",
        "I want to strip off the layers of ResNET that are more suited to classification, leaving the layers that gather and filter information about images.\n",
        "\n",
        "There is probably a built-in way to do this, but since the structure of fast.ai has changed, I'm not sure where to look, so I get into the guts of the network.\n"
      ]
    },
    {
      "cell_type": "code",
      "metadata": {
        "id": "1q5k_ePcXVJQ",
        "colab_type": "code",
        "colab": {}
      },
      "source": [
        "m = nn.Sequential(*list(m.children())[:-3])\n"
      ],
      "execution_count": 0,
      "outputs": []
    },
    {
      "cell_type": "markdown",
      "metadata": {
        "id": "UzdCj91lXWyr",
        "colab_type": "text"
      },
      "source": [
        "When building a custom model, I like to have a test vector on which to operate to make sure inputs and outputs are the right shape.\n",
        "\n"
      ]
    },
    {
      "cell_type": "code",
      "metadata": {
        "id": "298zcJy0XXY8",
        "colab_type": "code",
        "colab": {}
      },
      "source": [
        "t,_ = next(iter(db.dl()))\n"
      ],
      "execution_count": 0,
      "outputs": []
    },
    {
      "cell_type": "code",
      "metadata": {
        "id": "ulZs-OZiXYo1",
        "colab_type": "code",
        "colab": {}
      },
      "source": [
        "t.size()\n"
      ],
      "execution_count": 0,
      "outputs": []
    },
    {
      "cell_type": "markdown",
      "metadata": {
        "id": "20wQmD9FXaH2",
        "colab_type": "text"
      },
      "source": [
        "After looking at the data tensor this should make some sense. The width of the first dimension has changed because our autoencoder will be training on batches of 64 images at once rather than the entire dataset or single images.\n",
        "\n"
      ]
    },
    {
      "cell_type": "code",
      "metadata": {
        "id": "jPxTj_YWXbVs",
        "colab_type": "code",
        "colab": {}
      },
      "source": [
        "m(t).size()\n"
      ],
      "execution_count": 0,
      "outputs": []
    },
    {
      "cell_type": "markdown",
      "metadata": {
        "id": "X0lz4s1iXdky",
        "colab_type": "text"
      },
      "source": [
        "We can see our ResNET encoder is changing the tensor shape. The first dimension still corresponds with a 64-item batch of data, but the remaining dimensions don't correspond with color channels and image size anymore. This is to be expected in deep neural networks, each successive layer abstracts the data away from the typology of the input.\n",
        "\n",
        "At this point the output of the encoder is a tensor containing 1024 floats per image in a batch. From a certain point of view, this makes the autoencoder's task very easy, particularly since the input was only 784 floats! The point of an autoencoder isn't just to copy the image data to a different format, it's to efficiently encode the essence of the data. Therefore, we're going to add a layer that cuts down the storage space the encoded image occupies and see how well it can reconstruct the original."
      ]
    },
    {
      "cell_type": "code",
      "metadata": {
        "id": "WYVnQisPXf4q",
        "colab_type": "code",
        "colab": {}
      },
      "source": [
        "code_sz = 32\n",
        "\n",
        "conv = nn.Conv2d(256, code_sz, kernel_size=(2,2)).cuda()\n",
        "\n",
        "m.add_module('CodeIn',conv)\n"
      ],
      "execution_count": 0,
      "outputs": []
    },
    {
      "cell_type": "code",
      "metadata": {
        "id": "ayFPyFY_Xh1V",
        "colab_type": "code",
        "colab": {}
      },
      "source": [
        "m(t).size()\n"
      ],
      "execution_count": 0,
      "outputs": []
    },
    {
      "cell_type": "markdown",
      "metadata": {
        "id": "zSrRuCiUXjEj",
        "colab_type": "text"
      },
      "source": [
        "The above is what our encoded layer looks like. Now it can only use 32 floats per image for encoding.\n",
        "\n"
      ]
    },
    {
      "cell_type": "markdown",
      "metadata": {
        "id": "hXYDGuDpXkwR",
        "colab_type": "text"
      },
      "source": [
        "# **Decoder**\n",
        "We'll construct a decoder manually. Essentially we'll upsample several times until we get to our original size.\n",
        "\n",
        "In more detail, for each upsample we scale the resolution up, then do a trainable 2-d convolution (to allow our network to make changes), and then either a ReLU followed by a batchnorm or a sigmoid. The idea is to use the sigmoid only on the output layer of the decoder."
      ]
    },
    {
      "cell_type": "code",
      "metadata": {
        "id": "kZ71mYIuXtut",
        "colab_type": "code",
        "colab": {}
      },
      "source": [
        "class UpSample(nn.Module):\n",
        "    def __init__(self,feat_in,feat_out,out_shape=None,scale=2):\n",
        "        super().__init__()\n",
        "        self.conv = nn.Conv2d(feat_in,feat_out,kernel_size=(3,3),stride=1,padding=1)\n",
        "        self.out_shape,self.scale = out_shape,scale\n",
        "        \n",
        "    \n",
        "    def forward(self,x):\n",
        "        return self.conv(\n",
        "            nn.functional.interpolate(\n",
        "                x,size=self.out_shape,scale_factor=self.scale,mode='bilinear',align_corners=True))"
      ],
      "execution_count": 0,
      "outputs": []
    },
    {
      "cell_type": "code",
      "metadata": {
        "id": "F47eN90hX9rj",
        "colab_type": "code",
        "colab": {}
      },
      "source": [
        "def get_upSamp(feat_in,feat_out, out_shape=None, scale=2, act='relu'):\n",
        "    \n",
        "    upSamp = UpSample(feat_in,feat_out,out_shape=out_shape,scale=scale).cuda()\n",
        "    \n",
        "    layer = nn.Sequential(upSamp)\n",
        "    \n",
        "    if act == 'relu':\n",
        "        act_f = nn.ReLU(inplace=True).cuda()\n",
        "        bn = nn.BatchNorm2d(feat_out).cuda()\n",
        "        layer.add_module('ReLU',act_f)\n",
        "        layer.add_module('BN',bn)\n",
        "    elif act == 'sig':\n",
        "        act_f = nn.Sigmoid()\n",
        "        layer.add_module('Sigmoid',act_f)\n",
        "    return layer\n",
        "\n",
        "def add_layer(m,feat_in,feat_out,name,out_shape=None,scale=2,act='relu'):\n",
        "    upSamp = get_upSamp(feat_in,feat_out,out_shape=out_shape,scale=scale,act=act)\n",
        "    m.add_module(name,upSamp)\n"
      ],
      "execution_count": 0,
      "outputs": []
    },
    {
      "cell_type": "markdown",
      "metadata": {
        "id": "d9uFy9zaX7Ep",
        "colab_type": "text"
      },
      "source": [
        "I piece this together carefully, making sure the model layers match up at each stage.\n",
        "\n"
      ]
    },
    {
      "cell_type": "code",
      "metadata": {
        "id": "6CAIUq_oYBKb",
        "colab_type": "code",
        "colab": {}
      },
      "source": [
        "add_layer(m,code_sz,256,'CodeOut')\n",
        "print(m(t).size())\n",
        "add_layer(m,256,128,'Upsample0')\n",
        "print(m(t).size())\n",
        "\n"
      ],
      "execution_count": 0,
      "outputs": []
    },
    {
      "cell_type": "markdown",
      "metadata": {
        "id": "m5CDl8IDYNMx",
        "colab_type": "text"
      },
      "source": [
        "It take a bit of fiddling to end with the exact resolution we want. It turns out that if we double the resolution in all the layers except this one, and in this one upsample from  4×4  to  7×7 , then we end up exactly at  28×28 ."
      ]
    },
    {
      "cell_type": "code",
      "metadata": {
        "id": "eQLHYlSyYMzs",
        "colab_type": "code",
        "colab": {}
      },
      "source": [
        "add_layer(m,128,64,'Upsample1',out_shape=(7,7),scale=None)\n",
        "print(m(t).size())\n",
        "add_layer(m,32,3,'Upsample3',act='sig')\n",
        "print(m(t).size(), t.size())\n"
      ],
      "execution_count": 0,
      "outputs": []
    },
    {
      "cell_type": "markdown",
      "metadata": {
        "id": "eFjuvrAAYbnA",
        "colab_type": "text"
      },
      "source": [
        "Our autoencoder is at least outputting objects of the correct shape.\n",
        "\n"
      ]
    },
    {
      "cell_type": "markdown",
      "metadata": {
        "id": "DOtXBw4uYdhi",
        "colab_type": "text"
      },
      "source": [
        "# **Make learner and choose learning rate**\n",
        "\n",
        "The API for creating a learner is slightly different than the old version of fast.ai, with the databunch taking the place of ModelData. Calling the Learner constructor (from basic_train.py) seems to be the new preferred way to get a learner, where before very often you were calling a ConvLearner class function. We'll pass the Learner our data, model, and a loss function, mean squared error.\n",
        "\n"
      ]
    },
    {
      "cell_type": "code",
      "metadata": {
        "id": "YaSb6U1jYdNS",
        "colab_type": "code",
        "colab": {}
      },
      "source": [
        "learn = Learner(db,m,loss_func=F.mse_loss)\n"
      ],
      "execution_count": 0,
      "outputs": []
    },
    {
      "cell_type": "markdown",
      "metadata": {
        "id": "ClrXrfjwYjnR",
        "colab_type": "text"
      },
      "source": [
        "lr_find is much the same as in the past, but the feedback makes it less opaque how to view the results.\n",
        "\n"
      ]
    },
    {
      "cell_type": "code",
      "metadata": {
        "id": "hlSke8mjYdKR",
        "colab_type": "code",
        "colab": {}
      },
      "source": [
        "learn.lr_find(end_lr=10000000)\n"
      ],
      "execution_count": 0,
      "outputs": []
    },
    {
      "cell_type": "markdown",
      "metadata": {
        "id": "GcwbZUqtYm-i",
        "colab_type": "text"
      },
      "source": [
        "LR Finder is complete, type {learner_name}.recorder.plot() to see the graph.\n",
        "learn.sched.plot() has become learn.recorder.plot().\n",
        "\n"
      ]
    },
    {
      "cell_type": "code",
      "metadata": {
        "id": "ke7O7fQCYoyS",
        "colab_type": "code",
        "colab": {}
      },
      "source": [
        "learn.recorder.plot()\n"
      ],
      "execution_count": 0,
      "outputs": []
    },
    {
      "cell_type": "markdown",
      "metadata": {
        "id": "4jhMy03YYqsP",
        "colab_type": "text"
      },
      "source": [
        "The learning rate finder makes it easier to tune the learning rate hyper-parameter. The graph shows us how the loss was reacting as lr_find dialed up the rate. We see how far to the right on the graph we can go with the graph still maintaining a nice downward slope. In my experience this tool is a little less straightforward when applied to autoencoders, so I'm going to be more conservative with the learning rate than the results indicate."
      ]
    },
    {
      "cell_type": "code",
      "metadata": {
        "id": "xJ1AKhwZYvzn",
        "colab_type": "code",
        "colab": {}
      },
      "source": [
        "lr = 1e-2\n"
      ],
      "execution_count": 0,
      "outputs": []
    },
    {
      "cell_type": "markdown",
      "metadata": {
        "id": "SFyjFWPmYxco",
        "colab_type": "text"
      },
      "source": [
        "# **Training**\n",
        "\n",
        "learn.fit is still available as in the older version of fast.ai, but speedy one-cycle training has been wrapped up in learn.fit_one_cycle. I presume the default parameters are good enough, and we'll train 10 epochs at our chosen learning rate.\n",
        "\n"
      ]
    },
    {
      "cell_type": "code",
      "metadata": {
        "id": "davgY_vAY22X",
        "colab_type": "code",
        "colab": {}
      },
      "source": [
        "learn.fit_one_cycle(10,lr)\n"
      ],
      "execution_count": 0,
      "outputs": []
    },
    {
      "cell_type": "markdown",
      "metadata": {
        "id": "8UPm3sQFY4H_",
        "colab_type": "text"
      },
      "source": [
        "# **View results**\n",
        "\n",
        "I love the built-in functions that are available now! The results can be seen by calling learn.show_results().\n",
        "\n",
        "We can see the autoencoder output is slightly different from the input, but overall I'm pretty satisfied.\n",
        "\n"
      ]
    },
    {
      "cell_type": "code",
      "metadata": {
        "id": "xRyhn3bwY6Xn",
        "colab_type": "code",
        "colab": {}
      },
      "source": [
        "learn.show_results()\n"
      ],
      "execution_count": 0,
      "outputs": []
    },
    {
      "cell_type": "markdown",
      "metadata": {
        "id": "UI4RcpEBY-06",
        "colab_type": "text"
      },
      "source": [
        "# **How could we improve this?**\n",
        "\n",
        "We might be able to train the network faster or better if we were using pixelshuffle for upscaling. At a high level, it's apparently a good idea to train the encoder to optimize the code layer rather than the final product (this bears more explanation but I'm not sure I'm equipped to say more, and it's outside the scope of this post). If we had a more concrete goal for the autoencoder, we could regularize it for sparsity, small gradients, or resilience against noise as described in this chapter of the free textbook by Goodfellow, Bengio, and Courville.\n",
        "\n",
        "That's all for now. If you'd like to try out this notebook, you can download it here. You'll need Jupyter.\n",
        "\n",
        "Thanks for reading!"
      ]
    }
  ]
}